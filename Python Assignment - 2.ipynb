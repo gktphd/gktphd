{
 "cells": [
  {
   "cell_type": "code",
   "execution_count": 107,
   "metadata": {},
   "outputs": [
    {
     "name": "stdout",
     "output_type": "stream",
     "text": [
      "120\n"
     ]
    }
   ],
   "source": [
    "# Assignment 2 task 1 Question 1.1\n",
    "\n",
    "def myred_prod(l):\n",
    "    p=1\n",
    "    for i in l:\n",
    "        p=p*i\n",
    "    print(p)\n",
    "l = [1,2,3,4,5]\n",
    "myred_prod(l)"
   ]
  },
  {
   "cell_type": "code",
   "execution_count": 109,
   "metadata": {},
   "outputs": [
    {
     "name": "stdout",
     "output_type": "stream",
     "text": [
      "15\n"
     ]
    }
   ],
   "source": [
    "# Assignment 2 task 1 Question 1.1\n",
    "\n",
    "def myred_add(l):\n",
    "    p=0\n",
    "    for i in l:\n",
    "        p=p+i\n",
    "    print(p)\n",
    "l = [1,2,3,4,5]\n",
    "myred_add(l)"
   ]
  },
  {
   "cell_type": "code",
   "execution_count": 110,
   "metadata": {},
   "outputs": [
    {
     "name": "stdout",
     "output_type": "stream",
     "text": [
      "-15\n"
     ]
    }
   ],
   "source": [
    "# Assignment 2 task 1 Question 1.1\n",
    "\n",
    "def myred_sub(l):\n",
    "    p=0\n",
    "    for i in l:\n",
    "        p=p-i\n",
    "    print(p)\n",
    "l = [1,2,3,4,5]\n",
    "myred_sub(l)"
   ]
  },
  {
   "cell_type": "code",
   "execution_count": 118,
   "metadata": {},
   "outputs": [
    {
     "name": "stdout",
     "output_type": "stream",
     "text": [
      "0.008333333333333333\n"
     ]
    }
   ],
   "source": [
    "# Assignment 2 task 1 Question 1.1\n",
    "\n",
    "def myred_div(l):\n",
    "    p=1\n",
    "    for i in l:\n",
    "        p=p/i\n",
    "    print(p)\n",
    "l = [1,2,3,4,5]\n",
    "myred_div(l)"
   ]
  },
  {
   "cell_type": "code",
   "execution_count": 38,
   "metadata": {},
   "outputs": [
    {
     "name": "stdout",
     "output_type": "stream",
     "text": [
      "[1, 3, 5, 7, 9]\n",
      "[2, 4, 6, 8]\n"
     ]
    }
   ],
   "source": [
    "# Assignment 2 task 1 Question 1.2\n",
    "\n",
    "def myfilt_odd_even(l):\n",
    "    a = []\n",
    "    b = []\n",
    "    for i in l:\n",
    "        if i%2 != 0:\n",
    "            a.append(i)\n",
    "        else:\n",
    "            b.append(i)\n",
    "    print(a)\n",
    "    print(b)\n",
    "l = [1,2,3,4,5,6,7,8,9]\n",
    "myfilt_odd_even(l)"
   ]
  },
  {
   "cell_type": "code",
   "execution_count": 51,
   "metadata": {},
   "outputs": [
    {
     "name": "stdout",
     "output_type": "stream",
     "text": [
      "['A', 'C', 'A', 'D', 'G', 'I', 'L', 'D']\n"
     ]
    }
   ],
   "source": [
    "# Assignment 2 task 1 Question 2\n",
    "\n",
    "w = 'ACADGILD'\n",
    "d = [i for i in w]\n",
    "print(d)"
   ]
  },
  {
   "cell_type": "code",
   "execution_count": 15,
   "metadata": {},
   "outputs": [
    {
     "name": "stdout",
     "output_type": "stream",
     "text": [
      "['x', 'y', 'z', 'xx', 'yy', 'zz', 'xxx', 'yyy', 'zzz', 'xxxx', 'yyyy', 'zzzz']\n"
     ]
    }
   ],
   "source": [
    "# Assignment 2 task 1 Question 2\n",
    "\n",
    "m = 'xyz'\n",
    "q = []\n",
    "x = 1\n",
    "while x<=4:\n",
    "    n = [i*x for i in m]\n",
    "    q.append(n)\n",
    "    x = x+1\n",
    "s = [a for b in q for a in b]\n",
    "print(s)"
   ]
  },
  {
   "cell_type": "code",
   "execution_count": 14,
   "metadata": {},
   "outputs": [
    {
     "name": "stdout",
     "output_type": "stream",
     "text": [
      "['x', 'xx', 'xxx', 'xxxx', 'y', 'yy', 'yyy', 'yyyy', 'z', 'zz', 'zzz', 'zzzz']\n"
     ]
    }
   ],
   "source": [
    "# Assignment 2 task 1 Question 2\n",
    "\n",
    "m = 'xyz'\n",
    "q = []\n",
    "x = 1\n",
    "while x<=4:\n",
    "    n = [i*x for i in m]\n",
    "    q.append(n)\n",
    "    x = x+1\n",
    "s = [a for b in q for a in b]\n",
    "c = sorted(s)\n",
    "print(c)"
   ]
  },
  {
   "cell_type": "code",
   "execution_count": 6,
   "metadata": {},
   "outputs": [
    {
     "name": "stdout",
     "output_type": "stream",
     "text": [
      "[[2], [3], [4], [3], [4], [5], [4], [5], [6]]\n"
     ]
    }
   ],
   "source": [
    "# Assignment 2 task 1 Question 2\n",
    "\n",
    "p = [1,2,3]\n",
    "r = []\n",
    "x = 1\n",
    "while x<=3:\n",
    "    q = [i+x for i in p]\n",
    "    r.append(q)\n",
    "    x = x + 1\n",
    "m = [a for b in r for a in b]\n",
    "o = [m[i:i+1] for i in range(0,len(m),1)]\n",
    "print(o)"
   ]
  },
  {
   "cell_type": "code",
   "execution_count": 16,
   "metadata": {},
   "outputs": [
    {
     "name": "stdout",
     "output_type": "stream",
     "text": [
      "[[2, 3, 4, 5], [3, 4, 5, 6], [4, 5, 6, 7], [5, 6, 7, 8]]\n"
     ]
    }
   ],
   "source": [
    "# Assignment 2 task 1 Question 2\n",
    "\n",
    "p = [1,2,3,4]\n",
    "r = []\n",
    "x = 1\n",
    "while x<=4:\n",
    "    q = [i+x for i in p]\n",
    "    r.append(q)\n",
    "    x = x + 1\n",
    "print(r)"
   ]
  },
  {
   "cell_type": "code",
   "execution_count": 2,
   "metadata": {},
   "outputs": [
    {
     "name": "stdout",
     "output_type": "stream",
     "text": [
      "[(1, 1), (2, 1), (3, 1), (1, 2), (2, 2), (3, 2), (1, 3), (2, 3), (3, 3)]\n"
     ]
    }
   ],
   "source": [
    "# Assignment 2 task 1 Question 2\n",
    "\n",
    "p = [1,2,3]\n",
    "r = []\n",
    "s = []\n",
    "x = 1\n",
    "while x<=3:\n",
    "    q = [i for i in p]\n",
    "    r.append(q)\n",
    "    s.append(q)\n",
    "    x = x + 1\n",
    "m = [a for b in r for a in b]\n",
    "n = [a for b in s for a in b]\n",
    "o = sorted(n)\n",
    "l = zip(m,o)\n",
    "print(list(l))"
   ]
  },
  {
   "cell_type": "code",
   "execution_count": 7,
   "metadata": {},
   "outputs": [
    {
     "name": "stdout",
     "output_type": "stream",
     "text": [
      "Please enter list of words with space intervals: good better best marvelous magnificient\n",
      "magnificient\n"
     ]
    }
   ],
   "source": [
    "# Assignment 2 task 1 Question 3\n",
    "\n",
    "def longestWord(l):\n",
    "    max = 0\n",
    "    for i in range(0,len(l)):\n",
    "        d = len(l[i])\n",
    "        if d > max:\n",
    "            max = d\n",
    "            index = i\n",
    "    print(l[index])\n",
    "l = list(input('Please enter list of words with space intervals: ').split())\n",
    "longestWord(l)"
   ]
  },
  {
   "cell_type": "code",
   "execution_count": 3,
   "metadata": {},
   "outputs": [
    {
     "name": "stdout",
     "output_type": "stream",
     "text": [
      "1.984313483298443\n"
     ]
    }
   ],
   "source": [
    "# Assignment 2 task 2 Question 1.1\n",
    "\n",
    "class Area:\n",
    "    def __init__(self,a,b,c):\n",
    "        self.a = a\n",
    "        self.b = b\n",
    "        self.c = c\n",
    "\n",
    "class Herons(Area):      \n",
    "    def __init__(self, a, b, c):\n",
    "        Area.__init__(self,a,b,c)\n",
    "        Area.a = a\n",
    "        Area.b = b\n",
    "        Area.c = c\n",
    "        \n",
    "    def calc(self):\n",
    "        s = (Area.a + Area.b + Area.c)/2\n",
    "        area = (s*(s-Area.a)*(s-Area.b)*(s-Area.c))**0.5\n",
    "        return area\n",
    "    \n",
    "t = Herons(3,2,2)\n",
    "print (t.calc())"
   ]
  },
  {
   "cell_type": "code",
   "execution_count": 4,
   "metadata": {},
   "outputs": [
    {
     "name": "stdout",
     "output_type": "stream",
     "text": [
      "Please enter a integer:4\n",
      "Please enter list of words with space intervals: This free course from iNeuron Intelligence is awesome I am grateful to you\n",
      "['course', 'iNeuron', 'Intelligence', 'awesome', 'grateful']\n"
     ]
    }
   ],
   "source": [
    "# Assignment 2 task 2 Question 1.2\n",
    "\n",
    "def filter_long_words(w,n):\n",
    "    max = 0\n",
    "    p = []\n",
    "    for i in range(0,len(w)):\n",
    "        d = len(w[i])\n",
    "        if d > n:\n",
    "            max = d\n",
    "            index = i\n",
    "            p.append(w[index])\n",
    "    print(p)\n",
    "n = int(input('Please enter a integer:'))\n",
    "w = list(input('Please enter list of words with space intervals: ').split())\n",
    "filter_long_words(w,n)"
   ]
  },
  {
   "cell_type": "code",
   "execution_count": 9,
   "metadata": {},
   "outputs": [
    {
     "name": "stdout",
     "output_type": "stream",
     "text": [
      "Please enter list of words with space intervals: Thank you iNeuron Intelligence for giving back to the community\n",
      "['Thank', 'you', 'iNeuron', 'Intelligence', 'for', 'giving', 'back', 'to', 'the', 'community']\n",
      "[5, 3, 7, 12, 3, 6, 4, 2, 3, 9]\n"
     ]
    }
   ],
   "source": [
    "# Assignment 2 task 2 Question 2.1\n",
    "\n",
    "def list_words_to_int(w):\n",
    "    p = []\n",
    "    q = []\n",
    "    for i in range(0,len(w)):\n",
    "        d = len(w[i])\n",
    "        index = i\n",
    "        p.append(w[index])\n",
    "        q.append(len(w[i]))\n",
    "    print(p)\n",
    "    print(q)\n",
    "w = list(input('Please enter list of words with space intervals: ').split())\n",
    "list_words_to_int(w)"
   ]
  },
  {
   "cell_type": "code",
   "execution_count": 5,
   "metadata": {},
   "outputs": [
    {
     "name": "stdout",
     "output_type": "stream",
     "text": [
      "Please enter a Chracter for checking vowel or not: e\n",
      "True\n"
     ]
    }
   ],
   "source": [
    "# Assignment 2 task 2 Question 2.2\n",
    "\n",
    "def vowel_or_not(x):\n",
    "    if x == 'a' or x == 'e' or x == 'i' or x == 'o' or x == 'u':\n",
    "        print(True)\n",
    "    else:\n",
    "        print(False)\n",
    "x = input('Please enter a Chracter for checking vowel or not: ')\n",
    "vowel_or_not(x)"
   ]
  }
 ],
 "metadata": {
  "kernelspec": {
   "display_name": "Python 3",
   "language": "python",
   "name": "python3"
  },
  "language_info": {
   "codemirror_mode": {
    "name": "ipython",
    "version": 3
   },
   "file_extension": ".py",
   "mimetype": "text/x-python",
   "name": "python",
   "nbconvert_exporter": "python",
   "pygments_lexer": "ipython3",
   "version": "3.7.6"
  }
 },
 "nbformat": 4,
 "nbformat_minor": 4
}
