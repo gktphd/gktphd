{
 "cells": [
  {
   "cell_type": "code",
   "execution_count": 20,
   "metadata": {},
   "outputs": [
    {
     "name": "stdout",
     "output_type": "stream",
     "text": [
      "Thank you \"ineuron intelligence Team\" for Python End to End free course\n"
     ]
    }
   ],
   "source": [
    "# Assignment - 1 Task - 1 Q - 2\n",
    "\n",
    "print('Thank you \"ineuron intelligence Team\" for Python End to End free course')"
   ]
  },
  {
   "cell_type": "code",
   "execution_count": 21,
   "metadata": {},
   "outputs": [
    {
     "name": "stdout",
     "output_type": "stream",
     "text": [
      "[2002, 2009, 2016, 2023, 2037, 2044, 2051, 2058, 2072, 2079, 2086, 2093, 2107, 2114, 2121, 2128, 2142, 2149, 2156, 2163, 2177, 2184, 2191, 2198, 2212, 2219, 2226, 2233, 2247, 2254, 2261, 2268, 2282, 2289, 2296, 2303, 2317, 2324, 2331, 2338, 2352, 2359, 2366, 2373, 2387, 2394, 2401, 2408, 2422, 2429, 2436, 2443, 2457, 2464, 2471, 2478, 2492, 2499, 2506, 2513, 2527, 2534, 2541, 2548, 2562, 2569, 2576, 2583, 2597, 2604, 2611, 2618, 2632, 2639, 2646, 2653, 2667, 2674, 2681, 2688, 2702, 2709, 2716, 2723, 2737, 2744, 2751, 2758, 2772, 2779, 2786, 2793, 2807, 2814, 2821, 2828, 2842, 2849, 2856, 2863, 2877, 2884, 2891, 2898, 2912, 2919, 2926, 2933, 2947, 2954, 2961, 2968, 2982, 2989, 2996, 3003, 3017, 3024, 3031, 3038, 3052, 3059, 3066, 3073, 3087, 3094, 3101, 3108, 3122, 3129, 3136, 3143, 3157, 3164, 3171, 3178, 3192, 3199]\n"
     ]
    }
   ],
   "source": [
    "# Assignment - 1 Task - 1 Q - 2\n",
    "\n",
    "# Creating a range of 2000 to 3200\n",
    "a = range(2000,3200)\n",
    "# Create a empty list to append outputs\n",
    "l = []\n",
    "# Create for loop for numbers in range(2000 to 3200), \n",
    "for i in a:\n",
    "# Apply if condition to segregate the numbers divisible by 7 and not multiple of 5.\n",
    "    if i%7 ==0 and i%5 !=0:\n",
    "# Append the numbers to list l that are segragated by above condition\n",
    "        l.append(i)\n",
    "# Print the output as list\n",
    "print(l)"
   ]
  },
  {
   "cell_type": "code",
   "execution_count": 23,
   "metadata": {},
   "outputs": [
    {
     "name": "stdout",
     "output_type": "stream",
     "text": [
      "Please type your first name___Gopikrishnan\n",
      "Please type your last name___T\n",
      "Your reversed name is T Gopikrishnan\n"
     ]
    }
   ],
   "source": [
    "# Assignment - 1 Task - 1 Q - 3\n",
    "\n",
    "# Get inputs from user for First and Last name as a and b\n",
    "a = input('Please type your first name___')\n",
    "b = input('Please type your last name___')\n",
    "\n",
    "# Print the reversed name\n",
    "print('Your reversed name is {} {}'.format(b,a))"
   ]
  },
  {
   "cell_type": "code",
   "execution_count": 27,
   "metadata": {},
   "outputs": [
    {
     "name": "stdout",
     "output_type": "stream",
     "text": [
      "Please enter the radius of sphere to find volume___7.5\n",
      "The volume of the sphere is 1767.1458676442585\n"
     ]
    }
   ],
   "source": [
    "# Assignment - 1 Task - 1 Q - 4\n",
    "\n",
    "# import math function as m to use pi\n",
    "import math as m\n",
    "\n",
    "# Get input of radius from user\n",
    "r = input('Please enter the radius of sphere to find volume___')\n",
    "\n",
    "# Set type of radius to float to accomodate decimal values\n",
    "s = float(r)\n",
    "\n",
    "# Code the formula for volume of sphere\n",
    "v = (4/3)*(m.pi)*(s**3)\n",
    "\n",
    "# Print the volume of sphere\n",
    "print('The volume of the sphere is', v)"
   ]
  },
  {
   "cell_type": "code",
   "execution_count": 30,
   "metadata": {},
   "outputs": [
    {
     "name": "stdout",
     "output_type": "stream",
     "text": [
      "Enter Comma separated values to be added to list \"l\"___1,2,3,4,5,6,7,8,9,10,11,22,33,44,55,66,77,88,99\n",
      "List l = ['1,2,3,4,5,6,7,8,9,10,11,22,33,44,55,66,77,88,99']\n"
     ]
    }
   ],
   "source": [
    "# Assignment - 1 Task - 2 Q - 1\n",
    "\n",
    "# Create a empty list\n",
    "l = []\n",
    "\n",
    "# Append entered values to list l\n",
    "l.append(input('Enter Comma separated values to be added to list \"l\"___'))\n",
    "\n",
    "# Print the List l\n",
    "print('List l =', l)"
   ]
  },
  {
   "cell_type": "code",
   "execution_count": 38,
   "metadata": {},
   "outputs": [
    {
     "name": "stdout",
     "output_type": "stream",
     "text": [
      "*\n",
      "**\n",
      "***\n",
      "****\n",
      "*****\n",
      "****\n",
      "***\n",
      "**\n",
      "*\n"
     ]
    }
   ],
   "source": [
    "# Assignment - 1 Task - 2 Q - 2\n",
    "\n",
    "# Create for loop\n",
    "for i in range(5):\n",
    "\n",
    "# Create nested for loop to iterate ascending triangle, select i+1 in range  \n",
    "    for j in range(i+1):\n",
    "\n",
    "# Print the character '*' and end will stop printing '*' in the next line\n",
    "        print('*',end='')\n",
    "    \n",
    "# This print will move to next line\n",
    "    print()\n",
    "    \n",
    "# Create next for loop to iterate descending triangle, select 4 in range\n",
    "for i in range(4):\n",
    "    \n",
    "# Create nested for loop to print character '*' in descending order\n",
    "    for j in range(4-i):\n",
    "        \n",
    "# Print the character '*' and end will stop printing '*' in the next line\n",
    "        print('*',end='')\n",
    "\n",
    "# This print will move to next line\n",
    "    print()"
   ]
  },
  {
   "cell_type": "code",
   "execution_count": 43,
   "metadata": {},
   "outputs": [
    {
     "name": "stdout",
     "output_type": "stream",
     "text": [
      "Please enter a word___Daffodils are beautiful flowers\n",
      "Reversed letters of input words are: srewolf lufituaeb era slidoffaD\n"
     ]
    }
   ],
   "source": [
    "# Assignment - 1 Task - 2 Q - 3\n",
    "\n",
    "# Get input of words from user and store it in w\n",
    "w = input('Please enter a word___')\n",
    "\n",
    "# Print the words in reversed letter order\n",
    "print('Reversed letters of input words are:',w[-1: :-1])"
   ]
  },
  {
   "cell_type": "code",
   "execution_count": 13,
   "metadata": {},
   "outputs": [
    {
     "name": "stdout",
     "output_type": "stream",
     "text": [
      "WE, THE PEOPLE OF INDIA,\n",
      "      having solemnly resolved to constitute India into a SOVEREIGN,!\n",
      "             SOCIALIST, SECULAR, DEMOCRATIC REPUBLIC\n",
      "              and to secure to all its citizens\n"
     ]
    }
   ],
   "source": [
    "# Assignment - 1 Task - 2 Q - 4\n",
    "\n",
    "print('WE, THE PEOPLE OF INDIA,')\n",
    "g = ' '*5\n",
    "print('%s having solemnly resolved to constitute India into a SOVEREIGN,!' % g)\n",
    "g1 = ' '*12\n",
    "print('%s SOCIALIST, SECULAR, DEMOCRATIC REPUBLIC' % g1)\n",
    "g2 = ' '*13\n",
    "print('%s and to secure to all its citizens' % g2)"
   ]
  },
  {
   "cell_type": "code",
   "execution_count": null,
   "metadata": {},
   "outputs": [],
   "source": []
  }
 ],
 "metadata": {
  "kernelspec": {
   "display_name": "Python 3",
   "language": "python",
   "name": "python3"
  },
  "language_info": {
   "codemirror_mode": {
    "name": "ipython",
    "version": 3
   },
   "file_extension": ".py",
   "mimetype": "text/x-python",
   "name": "python",
   "nbconvert_exporter": "python",
   "pygments_lexer": "ipython3",
   "version": "3.7.6"
  }
 },
 "nbformat": 4,
 "nbformat_minor": 4
}
