{
 "cells": [
  {
   "cell_type": "code",
   "execution_count": 1,
   "metadata": {},
   "outputs": [
    {
     "name": "stdout",
     "output_type": "stream",
     "text": [
      "division by zero\n"
     ]
    }
   ],
   "source": [
    "# Assignment 3 Task - 1 Question - 1\n",
    "a = 5\n",
    "b = 0\n",
    "try:\n",
    "    print(a/b)\n",
    "except Exception as e:\n",
    "    print(e)"
   ]
  },
  {
   "cell_type": "code",
   "execution_count": 12,
   "metadata": {},
   "outputs": [
    {
     "name": "stdout",
     "output_type": "stream",
     "text": [
      "Americans play Baseball \n",
      "Americans play Cricket \n",
      "Americans watch Baseball \n",
      "Americans watch Cricket \n",
      "Indians play Baseball \n",
      "Indians play Cricket \n",
      "Indians play Cricket \n",
      "Indians watch Cricket \n"
     ]
    }
   ],
   "source": [
    "# Assignment 3 Task - 1 Question - 2 \n",
    "\n",
    "subjects = [\"Americans \",\"Indians \"]\n",
    "verbs = [\"play \",\"watch \"]\n",
    "objects = [\"Baseball \",\"Cricket \"]\n",
    "\n",
    "a = sorted(subjects*4)\n",
    "b = sorted(verbs*2)\n",
    "c = objects*2\n",
    "d = list(filter(lambda x: x == 'Americans ',a))\n",
    "e = list(filter(lambda x: x != 'Americans ',a))\n",
    "f = list(zip(d,b,c))\n",
    "g = list(zip(e,b,c))\n",
    "h, i, j, k = f[0], f[1], f[2], f[3]\n",
    "l, m, n, o = g[0], g[1], g[2], g[3]\n",
    "p, q, r, s = ''.join(h), ''.join(i), ''.join(j), ''.join(k)\n",
    "t, u, v, w = ''.join(l), ''.join(m), ''.join(m), ''.join(o)\n",
    "print(p, q, r, s, sep = '\\n')\n",
    "print(t, u, v, w, sep = '\\n')"
   ]
  },
  {
   "cell_type": "code",
   "execution_count": 44,
   "metadata": {},
   "outputs": [
    {
     "name": "stdout",
     "output_type": "stream",
     "text": [
      "Output matrix in decreasing order: \n",
      "[[  1   1   1   1   1]\n",
      " [ 16   8   4   2   1]\n",
      " [ 81  27   9   3   1]\n",
      " [256  64  16   4   1]\n",
      " [625 125  25   5   1]]\n",
      "Output matrix in increasing order: \n",
      "[[  1   1   1   1   1]\n",
      " [  1   2   4   8  16]\n",
      " [  1   3   9  27  81]\n",
      " [  1   4  16  64 256]\n",
      " [  1   5  25 125 625]]\n"
     ]
    }
   ],
   "source": [
    "# Assignment 3 Task - 1 Question - 3\n",
    "\n",
    "import numpy as np\n",
    "def atv_mat(inp_vec, n, incre = False):\n",
    "\n",
    "    if incre == False:\n",
    "        out_mat = np.array([x**(n-1-i) for x in inp_vec for i in range(n)]).reshape(inp_vec.size,n)\n",
    "    elif incre == True:\n",
    "        out_mat = np.array([x**i for x in inp_vec for i in range(n)]).reshape(inp_vec.size,n)\n",
    "    return out_mat\n",
    "\n",
    "inp_vec = np.array([1,2,3,4,5])\n",
    "n = 5\n",
    "out_mat_dec = atv_mat(inp_vec,n,False)\n",
    "out_mat_inc = atv_mat(inp_vec,n,True)\n",
    "print('Output matrix in decreasing order: ',out_mat_dec, sep='\\n')\n",
    "print('Output matrix in increasing order: ',out_mat_inc, sep='\\n')"
   ]
  },
  {
   "cell_type": "code",
   "execution_count": null,
   "metadata": {},
   "outputs": [],
   "source": []
  }
 ],
 "metadata": {
  "kernelspec": {
   "display_name": "Python 3",
   "language": "python",
   "name": "python3"
  },
  "language_info": {
   "codemirror_mode": {
    "name": "ipython",
    "version": 3
   },
   "file_extension": ".py",
   "mimetype": "text/x-python",
   "name": "python",
   "nbconvert_exporter": "python",
   "pygments_lexer": "ipython3",
   "version": "3.7.6"
  }
 },
 "nbformat": 4,
 "nbformat_minor": 4
}
